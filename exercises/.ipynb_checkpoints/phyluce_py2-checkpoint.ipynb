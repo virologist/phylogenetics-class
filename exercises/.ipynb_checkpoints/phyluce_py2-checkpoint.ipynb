{
 "cells": [
  {
   "cell_type": "code",
   "execution_count": 1,
   "id": "military-reserve",
   "metadata": {},
   "outputs": [],
   "source": [
    "!cd phyluce/uce-tutorial/"
   ]
  },
  {
   "cell_type": "code",
   "execution_count": 4,
   "id": "computational-mitchell",
   "metadata": {},
   "outputs": [
    {
     "name": "stdout",
     "output_type": "stream",
     "text": [
      "assembly.conf\n",
      "illumiprocessor.conf\n"
     ]
    }
   ],
   "source": [
    "!ls phyluce/uce-tutorial/"
   ]
  },
  {
   "cell_type": "code",
   "execution_count": 5,
   "id": "acting-hopkins",
   "metadata": {},
   "outputs": [
    {
     "name": "stderr",
     "output_type": "stream",
     "text": [
      "'wget' is not recognized as an internal or external command,\n",
      "operable program or batch file.\n"
     ]
    }
   ],
   "source": [
    "!curl -O https://ndownloader.figshare.com/articles/1284521/versions/1"
   ]
  },
  {
   "cell_type": "code",
   "execution_count": null,
   "id": "greek-hybrid",
   "metadata": {},
   "outputs": [],
   "source": []
  }
 ],
 "metadata": {
  "kernelspec": {
   "display_name": "py2",
   "language": "python",
   "name": "py2"
  },
  "language_info": {
   "codemirror_mode": {
    "name": "ipython",
    "version": 2
   },
   "file_extension": ".py",
   "mimetype": "text/x-python",
   "name": "python",
   "nbconvert_exporter": "python",
   "pygments_lexer": "ipython2",
   "version": "2.7.15"
  }
 },
 "nbformat": 4,
 "nbformat_minor": 5
}
